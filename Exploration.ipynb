{
 "cells": [
  {
   "cell_type": "code",
   "execution_count": 57,
   "metadata": {},
   "outputs": [],
   "source": [
    "import pandas as pd\n",
    "import os"
   ]
  },
  {
   "cell_type": "code",
   "execution_count": 58,
   "metadata": {},
   "outputs": [],
   "source": [
    "thePath = os.getcwd()\n",
    "theFiles = list(os.listdir(thePath))"
   ]
  },
  {
   "cell_type": "code",
   "execution_count": 59,
   "metadata": {},
   "outputs": [
    {
     "name": "stdout",
     "output_type": "stream",
     "text": [
      "The File: .git                           The Size: 4096 Bytes\n",
      "The File: .gitattributes                 The Size: 43 Bytes\n",
      "The File: README.md                      The Size: 3370 Bytes\n",
      "The File: test.csv                       The Size: 62750594 Bytes\n",
      "The File: testing                        The Size: 10 Bytes\n",
      "The File: train.csv                      The Size: 852136401 Bytes\n",
      "The File: val.csv                        The Size: 220909326 Bytes\n"
     ]
    }
   ],
   "source": [
    "theDict = dict()\n",
    "for something in theFiles: #Calculate size for all files here. \n",
    "    theStats = os.stat(something)\n",
    "    theDict[something] = theStats\n",
    "\n",
    "for item in theDict:\n",
    "    print(\"The File: {:30s} The Size: {:d} Bytes\".format(item,theDict[item].st_size))"
   ]
  },
  {
   "cell_type": "code",
   "execution_count": 54,
   "metadata": {},
   "outputs": [],
   "source": [
    "train = pd.read_csv('train.csv')"
   ]
  },
  {
   "cell_type": "code",
   "execution_count": 55,
   "metadata": {},
   "outputs": [
    {
     "data": {
      "text/plain": [
       "Index(['YouTube ID', 'Timestamp (milliseconds)', 'amusement', 'anger', 'awe',\n",
       "       'concentration', 'confusion', 'contempt', 'contentment',\n",
       "       'disappointment', 'doubt', 'elation', 'interest', 'pain', 'sadness',\n",
       "       'surprise', 'triumph'],\n",
       "      dtype='object')"
      ]
     },
     "execution_count": 55,
     "metadata": {},
     "output_type": "execute_result"
    }
   ],
   "source": [
    "train.columns"
   ]
  },
  {
   "cell_type": "code",
   "execution_count": 56,
   "metadata": {},
   "outputs": [
    {
     "data": {
      "text/plain": [
       "3061"
      ]
     },
     "execution_count": 56,
     "metadata": {},
     "output_type": "execute_result"
    }
   ],
   "source": [
    "# How many videos\n",
    "train['YouTube ID'].nunique()"
   ]
  },
  {
   "cell_type": "code",
   "execution_count": 20,
   "metadata": {},
   "outputs": [],
   "source": [
    "import random"
   ]
  },
  {
   "cell_type": "code",
   "execution_count": 27,
   "metadata": {},
   "outputs": [
    {
     "data": {
      "text/plain": [
       "1351"
      ]
     },
     "execution_count": 27,
     "metadata": {},
     "output_type": "execute_result"
    }
   ],
   "source": [
    "random.randrange(0,train['YouTube ID'].nunique())"
   ]
  },
  {
   "cell_type": "code",
   "execution_count": 30,
   "metadata": {},
   "outputs": [],
   "source": [
    "# Check for random video how emotions change along the video: \n",
    "video_id = train['YouTube ID'].unique()[random.randrange(0,train['YouTube ID'].nunique())]"
   ]
  },
  {
   "cell_type": "code",
   "execution_count": 34,
   "metadata": {},
   "outputs": [],
   "source": [
    "# Generate video html: \n",
    "video_html = 'https://www.youtube.com/watch?v=' + video_id"
   ]
  },
  {
   "cell_type": "code",
   "execution_count": 77,
   "metadata": {},
   "outputs": [],
   "source": [
    "# Now check the emotions by frame: \n",
    "df = train.loc[train['YouTube ID'] == video_id]\n",
    "df.reset_index(inplace=True, drop=True)"
   ]
  },
  {
   "cell_type": "code",
   "execution_count": 78,
   "metadata": {},
   "outputs": [
    {
     "name": "stderr",
     "output_type": "stream",
     "text": [
      "C:\\Users\\pauli\\AppData\\Local\\Temp\\ipykernel_1416\\1396121755.py:2: SettingWithCopyWarning: \n",
      "A value is trying to be set on a copy of a slice from a DataFrame.\n",
      "Try using .loc[row_indexer,col_indexer] = value instead\n",
      "\n",
      "See the caveats in the documentation: https://pandas.pydata.org/pandas-docs/stable/user_guide/indexing.html#returning-a-view-versus-a-copy\n",
      "  df.loc[:,'Timestamp (milliseconds)'] /= 100\n"
     ]
    }
   ],
   "source": [
    "# Time looks to be in Microsecond \n",
    "df.loc[:,'Timestamp (milliseconds)'] /= 100"
   ]
  },
  {
   "cell_type": "code",
   "execution_count": 1,
   "metadata": {},
   "outputs": [
    {
     "name": "stderr",
     "output_type": "stream",
     "text": [
      "\"[]aa\" no se reconoce como un comando interno o externo,\n",
      "programa o archivo por lotes ejecutable.\n"
     ]
    }
   ],
   "source": [
    "# Now try to replicate something like this: \n",
    "![]aa"
   ]
  },
  {
   "cell_type": "code",
   "execution_count": null,
   "metadata": {},
   "outputs": [],
   "source": []
  }
 ],
 "metadata": {
  "kernelspec": {
   "display_name": "Python 3.9.12 ('base')",
   "language": "python",
   "name": "python3"
  },
  "language_info": {
   "codemirror_mode": {
    "name": "ipython",
    "version": 3
   },
   "file_extension": ".py",
   "mimetype": "text/x-python",
   "name": "python",
   "nbconvert_exporter": "python",
   "pygments_lexer": "ipython3",
   "version": "3.9.12"
  },
  "orig_nbformat": 4,
  "vscode": {
   "interpreter": {
    "hash": "0277d2901fd011033dc0e74a7d88f9fbde1c5282014ac4966116f529a0221cd6"
   }
  }
 },
 "nbformat": 4,
 "nbformat_minor": 2
}
